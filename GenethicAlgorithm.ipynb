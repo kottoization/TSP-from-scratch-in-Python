{
  "nbformat": 4,
  "nbformat_minor": 0,
  "metadata": {
    "colab": {
      "provenance": []
    },
    "kernelspec": {
      "name": "python3",
      "display_name": "Python 3"
    },
    "language_info": {
      "name": "python"
    }
  },
  "cells": [
    {
      "cell_type": "markdown",
      "source": [
        "**Wstępne funkcje, main**"
      ],
      "metadata": {
        "id": "09s76WG-DnX5"
      }
    },
    {
      "cell_type": "code",
      "execution_count": null,
      "metadata": {
        "id": "FDX92IM6rmbh"
      },
      "outputs": [],
      "source": [
        "import pandas as pd\n",
        "import random\n",
        "\n",
        "tsp29 = pd.read_excel(\"TSP_29.xlsx\", index_col=[0])\n",
        "tsp48 = pd.read_excel(\"Dane_TSP_48.xlsx\", index_col=[0])\n",
        "tsp76 = pd.read_excel(\"Dane_TSP_76.xlsx\", index_col=[0])\n",
        "tsp127 = pd.read_excel(\"Dane_TSP_127.xlsx\", index_col=[0])\n",
        "def generateRandomSolution(indices):\n",
        "    return random.sample(indices, len(indices))\n",
        "\n",
        "\n",
        "def generatePopulation(data):\n",
        "    indices = data.index.to_list()\n",
        "    length = len(indices)\n",
        "    population = [generateRandomSolution(indices) for _ in range(length)]\n",
        "    return population\n",
        "\n",
        "def solutionDistance(path, data):\n",
        "    pathLength = sum(data.loc[x, y] for x, y in zip(path, path[1:]))\n",
        "    pathLength += data.loc[path[0], path[-1]]\n",
        "    return pathLength"
      ]
    },
    {
      "cell_type": "code",
      "source": [
        "def checkIfIncludes(number, list_c):\n",
        "  includes = 0\n",
        "  for i in range(len(list_c)):\n",
        "    if list_c[i]==number:\n",
        "      includes=1\n",
        "  return includes"
      ],
      "metadata": {
        "id": "J5tQpC71d3GA"
      },
      "execution_count": null,
      "outputs": []
    },
    {
      "cell_type": "code",
      "source": [
        "def mainTournamentCrossingPMX(data, mutationPercentage, generations):\n",
        "    population = generatePopulation(data)\n",
        "    bestDistance = 999999999999\n",
        "    stop = 0\n",
        "    for _ in range(generations):\n",
        "        if(stop>=10):\n",
        "          break      \n",
        "        population = tournamentSwapPMX(data, population, mutationPercentage)\n",
        "        population.sort(key= lambda x: solutionDistance(x, data))\n",
        "        distance = solutionDistance(population[0], data)        \n",
        "        delta = bestDistance - distance\n",
        "        if(delta<=0):\n",
        "          stop = stop+1\n",
        "        else:\n",
        "          stop = 0\n",
        "        if(distance<bestDistance):\n",
        "          bestDistance = distance\n",
        "          bestPopulation = population\n",
        "\n",
        "    print(f' TournamentPMX bestDistance : {bestDistance}  pm : {mutationPercentage}  generations : {generations}')\n",
        "    print(bestPopulation[0])\n",
        "    print(\"\")\n",
        "    return bestPopulation[0]"
      ],
      "metadata": {
        "id": "rVtxdFoZr27e"
      },
      "execution_count": null,
      "outputs": []
    },
    {
      "cell_type": "code",
      "source": [
        "def mainTurnicationCrossingPMX(data, mutationPercentage, generations):\n",
        "    population = generatePopulation(data)\n",
        "    bestDistance = 999999999999\n",
        "    stop = 0\n",
        "    for _ in range(generations):\n",
        "        if(stop>=10):\n",
        "          break      \n",
        "        population = turnicationSwapPMX(data, population, mutationPercentage)\n",
        "        population.sort(key= lambda x: solutionDistance(x, data))\n",
        "        distance = solutionDistance(population[0], data)        \n",
        "        delta = bestDistance - distance\n",
        "        if(delta<=0):\n",
        "          stop = stop+1\n",
        "        else:\n",
        "          stop = 0  \n",
        "        if(distance<bestDistance):\n",
        "          bestDistance = distance\n",
        "          bestPopulation = population\n",
        "\n",
        "    print(f' TurnicationPMX bestDistance : {bestDistance}  pm : {mutationPercentage}  generations : {generations}')\n",
        "    print(bestPopulation[0])\n",
        "    print(\"\")\n",
        "    return bestPopulation[0]"
      ],
      "metadata": {
        "id": "lKKsaFqrgSI9"
      },
      "execution_count": null,
      "outputs": []
    },
    {
      "cell_type": "code",
      "source": [
        "def mainTurnicationCrossingOX(data, mutationPercentage, generations):\n",
        "    population = generatePopulation(data)\n",
        "    bestDistance = 999999999999\n",
        "    stop = 0\n",
        "    for _ in range(generations):\n",
        "        if(stop>=10):\n",
        "          break      \n",
        "        population = turnicationSwapOX(data, population, mutationPercentage)\n",
        "        population.sort(key= lambda x: solutionDistance(x, data))\n",
        "        distance = solutionDistance(population[0], data)        \n",
        "        delta = bestDistance - distance\n",
        "        if(delta<=0):\n",
        "          stop = stop+1\n",
        "        else:\n",
        "          stop = 0\n",
        "        if(distance<bestDistance):\n",
        "          bestDistance = distance\n",
        "          bestPopulation = population\n",
        "\n",
        "    print(f' TurnicationOX bestDistance : {bestDistance}  pm : {mutationPercentage}  generations : {generations}')\n",
        "    print(bestPopulation[0])\n",
        "    print(\"\")\n",
        "    return bestPopulation[0]"
      ],
      "metadata": {
        "id": "w1mjUpLugcuf"
      },
      "execution_count": null,
      "outputs": []
    },
    {
      "cell_type": "code",
      "source": [
        "def mainTournamentCrossingOX(data, mutationPercentage, generations):\n",
        "    population = generatePopulation(data)\n",
        "    bestDistance = 999999999999\n",
        "    stop = 0\n",
        "    for _ in range(generations):\n",
        "        if(stop>=10):\n",
        "          break      \n",
        "        population = tournamentSwapOX(data, population, mutationPercentage)\n",
        "        population.sort(key= lambda x: solutionDistance(x, data))\n",
        "        distance = solutionDistance(population[0], data)        \n",
        "        delta = bestDistance - distance\n",
        "        if(delta<=0):\n",
        "          stop = stop+1\n",
        "        else:\n",
        "          stop = 0\n",
        "        if(distance<bestDistance):\n",
        "          bestDistance = distance\n",
        "          bestPopulation = population\n",
        "\n",
        "\n",
        "    print(f' TournamentOX bestDistance : {bestDistance}  pm : {mutationPercentage}  generations : {generations}')\n",
        "    print(bestPopulation[0])\n",
        "    print(\"\")\n",
        "    return bestPopulation[0]"
      ],
      "metadata": {
        "id": "3NOO4jkNfVID"
      },
      "execution_count": null,
      "outputs": []
    },
    {
      "cell_type": "code",
      "source": [
        "def mainTurnicationInvertCrossingOX(data, mutationPercentage, generations):\n",
        "    population = generatePopulation(data)\n",
        "    bestDistance = 999999999999\n",
        "    stop = 0\n",
        "    for _ in range(generations):\n",
        "        if(stop>=10):\n",
        "          break      \n",
        "        population = turnicationInvertOX(data, population, mutationPercentage)\n",
        "        population.sort(key= lambda x: solutionDistance(x, data))\n",
        "        distance = solutionDistance(population[0], data)        \n",
        "        delta = bestDistance - distance\n",
        "        if(delta<=0):\n",
        "          stop = stop+1\n",
        "        else:\n",
        "          stop = 0\n",
        "        if(distance<bestDistance):\n",
        "          bestDistance = distance\n",
        "          bestPopulation = population\n",
        "\n",
        "\n",
        "    print(f' turnicationInvertOX bestDistance : {bestDistance}  pm : {mutationPercentage}  generations : {generations}')\n",
        "    print(bestPopulation[0])\n",
        "    print(\"\")\n",
        "    return bestPopulation[0]"
      ],
      "metadata": {
        "id": "-aL015f2O0dg"
      },
      "execution_count": null,
      "outputs": []
    },
    {
      "cell_type": "code",
      "source": [
        "def tournamentSwapPMX(data, population, mutationPercentage):\n",
        "    newGen = []\n",
        "    while True:\n",
        "        parents = tournamentSelection(population, data)\n",
        "        child1, child2 = crossingPMX(*parents)\n",
        "        newGen.append(child1)\n",
        "        if len(newGen) == len(population):\n",
        "            break\n",
        "        newGen.append(child2)\n",
        "        if len(newGen) == len(population):\n",
        "            break\n",
        "\n",
        "    for i, child in enumerate(newGen):\n",
        "        if random.random() < mutationPercentage:\n",
        "            newGen[i] = mutateSwap(child)\n",
        "\n",
        "    return newGen"
      ],
      "metadata": {
        "id": "esOxNMurr5Cn"
      },
      "execution_count": null,
      "outputs": []
    },
    {
      "cell_type": "code",
      "source": [
        "def tournamentSwapOX(data, population, mutationPercentage):\n",
        "    newGen = []\n",
        "    while True:\n",
        "        parents = tournamentSelection(population, data)\n",
        "        child1, child2 = crossingOX(*parents)\n",
        "        newGen.append(child1)\n",
        "        if len(newGen) == len(population):\n",
        "            break\n",
        "        newGen.append(child2)\n",
        "        if len(newGen) == len(population):\n",
        "            break\n",
        "\n",
        "    for i, child in enumerate(newGen):\n",
        "        if random.random() < mutationPercentage:\n",
        "            newGen[i] = mutateSwap(child)\n",
        "\n",
        "    return newGen"
      ],
      "metadata": {
        "id": "G-V0dwPNe8rC"
      },
      "execution_count": null,
      "outputs": []
    },
    {
      "cell_type": "code",
      "source": [
        "def turnicationSwapPMX(data, population, mutationPercentage):\n",
        "    newGen = []\n",
        "    while True:\n",
        "        parents = turnicationSelection(population, data)\n",
        "        child1, child2 = crossingPMX(*parents)\n",
        "        newGen.append(child1)\n",
        "        if len(newGen) == len(population):\n",
        "            break\n",
        "        newGen.append(child2)\n",
        "        if len(newGen) == len(population):\n",
        "            break\n",
        "\n",
        "    for i, child in enumerate(newGen):\n",
        "        if random.random() < mutationPercentage:\n",
        "            newGen[i] = mutateSwap(child)\n",
        "\n",
        "    return newGen"
      ],
      "metadata": {
        "id": "rjVdLieTfmSn"
      },
      "execution_count": null,
      "outputs": []
    },
    {
      "cell_type": "code",
      "source": [
        "def turnicationSwapOX(data, population, mutationPercentage):\n",
        "    newGen = []\n",
        "    while True:\n",
        "        parents = turnicationSelection(population, data)\n",
        "        child1, child2 = crossingOX(*parents)\n",
        "        newGen.append(child1)\n",
        "        if len(newGen) == len(population):\n",
        "            break\n",
        "        newGen.append(child2)\n",
        "        if len(newGen) == len(population):\n",
        "            break\n",
        "\n",
        "    for i, child in enumerate(newGen):\n",
        "        if random.random() < mutationPercentage:\n",
        "            newGen[i] = mutateSwap(child)\n",
        "\n",
        "    return newGen"
      ],
      "metadata": {
        "id": "aJ5bIpOxgFAi"
      },
      "execution_count": null,
      "outputs": []
    },
    {
      "cell_type": "code",
      "source": [
        "def turnicationInvertOX(data, population, mutationPercentage):\n",
        "    newGen = []\n",
        "    while True:\n",
        "        parents = turnicationSelection(population, data)\n",
        "        child1, child2 = crossingOX(*parents)\n",
        "        newGen.append(child1)\n",
        "        if len(newGen) == len(population):\n",
        "            break\n",
        "        newGen.append(child2)\n",
        "        if len(newGen) == len(population):\n",
        "            break\n",
        "\n",
        "    for i, child in enumerate(newGen):\n",
        "        if random.random() < mutationPercentage:\n",
        "            newGen[i] = mutateInvert(child)\n",
        "\n",
        "    return newGen"
      ],
      "metadata": {
        "id": "lbLLxZrpMvni"
      },
      "execution_count": null,
      "outputs": []
    },
    {
      "cell_type": "code",
      "source": [
        "def turnicationInvertPMX(data, population, mutationPercentage):\n",
        "    newGen = []\n",
        "    while True:\n",
        "        parents = turnicationSelection(population, data)\n",
        "        child1, child2 = crossingPMX(*parents)\n",
        "        newGen.append(child1)\n",
        "        if len(newGen) == len(population):\n",
        "            break\n",
        "        newGen.append(child2)\n",
        "        if len(newGen) == len(population):\n",
        "            break\n",
        "\n",
        "    for i, child in enumerate(newGen):\n",
        "        if random.random() < mutationPercentage:\n",
        "            newGen[i] = mutateInvert(child)\n",
        "\n",
        "    return newGen"
      ],
      "metadata": {
        "id": "bejOv63LM2sp"
      },
      "execution_count": null,
      "outputs": []
    },
    {
      "cell_type": "markdown",
      "source": [
        "**Rodzaje mutacji**"
      ],
      "metadata": {
        "id": "3yPvEYGZESEU"
      }
    },
    {
      "cell_type": "code",
      "source": [
        "\n",
        "def mutateSwap(X):\n",
        "  X = X[:]\n",
        "  length = len(X) - 1\n",
        "  swap1, swap2 = random.randint(0, length), random.randint(0, length)\n",
        "  X[swap1], X[swap2] = X[swap2], X[swap1]\n",
        "  return X\n"
      ],
      "metadata": {
        "id": "gywJ0mgor6Yy"
      },
      "execution_count": null,
      "outputs": []
    },
    {
      "cell_type": "code",
      "source": [
        "def mutateInvert(X):\n",
        "  arr = []\n",
        "  Xlen = len(X)\n",
        "  index1 = random.randint(0, Xlen - 1)\n",
        "  index2 = random.randint(0, Xlen - 1)\n",
        "  while index1 == index2:\n",
        "    index2 = random.randint(0, Xlen - 1)\n",
        "  if index1 > index2:\n",
        "    helper = index1\n",
        "    index1 = index2\n",
        "    index2 = helper\n",
        "  index1, index2\n",
        "  i = 0\n",
        "  j = 0\n",
        "  while i < index1:\n",
        "    arr.append(X[i])\n",
        "    i = i + 1\n",
        "  i = index2\n",
        "  while i >= index1:\n",
        "    arr.append(X[i])\n",
        "    i = i - 1\n",
        "  i = index2 + 1\n",
        "  while i <= Xlen - 1:\n",
        "    arr.append(X[i])\n",
        "    i = i + 1\n",
        "  return arr"
      ],
      "metadata": {
        "id": "ddg9jEOLcDZS"
      },
      "execution_count": null,
      "outputs": []
    },
    {
      "cell_type": "code",
      "source": [
        "def createSolutionSwap(X):\n",
        "  arr = []\n",
        "  Xlen = len(X)\n",
        "  index1 = random.randint(0, Xlen - 1)\n",
        "  index2 = random.randint(0, Xlen - 1)\n",
        "  print(index1, index2)\n",
        "  for j in range(Xlen):\n",
        "      if X[j] == index1:\n",
        "        arr.append(index2)\n",
        "      elif X[j] == index2:\n",
        "        arr.append(index1)\n",
        "      else:\n",
        "        arr.append(X[j])\n",
        "  return arr"
      ],
      "metadata": {
        "id": "WhFaDzK8cCur"
      },
      "execution_count": null,
      "outputs": []
    },
    {
      "cell_type": "markdown",
      "source": [
        "**Rodzaje doboru rodziców**"
      ],
      "metadata": {
        "id": "wdneFpdqEVaT"
      }
    },
    {
      "cell_type": "code",
      "source": [
        "def tournamentSelection(population, data):\n",
        "  length = len(data)\n",
        "\n",
        "  tourn1 = random.sample(population, length // 2)\n",
        "  tourn1.sort(key= lambda x: solutionDistance(x, data))\n",
        "\n",
        "  tourn2 = random.sample(population, length // 2)\n",
        "  tourn2.sort(key= lambda x: solutionDistance(x, data))\n",
        "\n",
        "  return (tourn1[0], tourn2[0])\n",
        "\n"
      ],
      "metadata": {
        "id": "0hRIG0lmr71r"
      },
      "execution_count": null,
      "outputs": []
    },
    {
      "cell_type": "code",
      "source": [
        "def turnicationSelection(population,data):\n",
        "  length = len(data)\n",
        "\n",
        "  population.sort(key=lambda x: solutionDistance(x,data))\n",
        "  rand1, rand2 = random.randint(0,length//1.5), random.randint(0,length//1.5)\n",
        "  parent1 = population[rand1]\n",
        "  parent2 = population[rand2]\n",
        "\n",
        "  return (parent1, parent2)"
      ],
      "metadata": {
        "id": "bAgijEhbZ5ht"
      },
      "execution_count": null,
      "outputs": []
    },
    {
      "cell_type": "markdown",
      "source": [
        "**Rodzaje krzyżowania**"
      ],
      "metadata": {
        "id": "tBCS4CtzEYRs"
      }
    },
    {
      "cell_type": "code",
      "source": [
        "def crossingOX(parent1, parent2):\n",
        "  length = len(parent1)\n",
        "  point1 = random.randint(1,length-3)\n",
        "  point2 = random.randint(point1+1,length-2)\n",
        "  child1 = [None]*length\n",
        "  child2 = [None]*length \n",
        "  #przepisanie\n",
        "  for i in range(point2-point1):\n",
        "    child1[point1+i]=parent1[point1+i]\n",
        "    child2[point1+i]=parent2[point1+i]\n",
        "  #uzupelnienie z drugiego rodzica\n",
        "  #dziecko 1\n",
        "  i = point2 #rodzic\n",
        "  j = point2 #dziecko\n",
        "  while i < length:\n",
        "    if(checkIfIncludes(parent2[i], child1)==0):\n",
        "      child1[j] = parent2[i]\n",
        "      j += 1\n",
        "      i += 1 \n",
        "    else:\n",
        "      i += 1\n",
        "    if j >= length:\n",
        "      j = 0\n",
        "  i = 0\n",
        "  while(i<point2):\n",
        "    if(checkIfIncludes(parent2[i], child1)==0):\n",
        "      child1[j] = parent2[i]\n",
        "      j += 1\n",
        "      i += 1 \n",
        "    else:\n",
        "      i += 1\n",
        "    if j >= length:\n",
        "      j = 0\n",
        "  i = point2\n",
        "  j = point2\n",
        "\n",
        "\n",
        "  while i < length:\n",
        "    if(checkIfIncludes(parent1[i], child2)==0):\n",
        "      child2[j] = parent1[i]\n",
        "      j += 1\n",
        "      i += 1 \n",
        "    else:\n",
        "      i += 1\n",
        "    if j >= length:\n",
        "      j = 0\n",
        "  i = 0\n",
        "  while(i<point2):\n",
        "    if(checkIfIncludes(parent1[i], child2)==0):\n",
        "      child2[j] = parent1[i]\n",
        "      j += 1\n",
        "      i += 1 \n",
        "    else:\n",
        "      i += 1\n",
        "    if j >= length:\n",
        "      j = 0\n",
        "  return child1, child2"
      ],
      "metadata": {
        "id": "Sb6-Zm0_dqbJ"
      },
      "execution_count": null,
      "outputs": []
    },
    {
      "cell_type": "code",
      "source": [
        "def crossingPMX(parent1, parent2):\n",
        "    length = len(parent1)\n",
        "\n",
        "    parent1, parent2 = parent1[:], parent2[:]\n",
        "\n",
        "    point1 = random.randint(0, length)\n",
        "    point2 = random.randint(0, length)\n",
        "    point1, point2 = sorted([point1, point2])\n",
        "\n",
        "    parent1[point1: point2], parent2[point1: point2] = (\n",
        "        parent2[point1: point2], parent1[point1: point2]\n",
        "    )\n",
        "\n",
        "    child1 = []\n",
        "    for i, gene in enumerate(parent1):\n",
        "        if i in range(point1, point2):\n",
        "            child1.append(gene)\n",
        "            continue\n",
        "        while gene in parent1[point1: point2]:\n",
        "            idx = parent1[point1: point2].index(gene)\n",
        "            gene = parent2[point1: point2][idx]\n",
        "        child1.append(gene)\n",
        "\n",
        "    child2 = []\n",
        "    for i, gene in enumerate(parent2):\n",
        "        if i in range(point1, point2):\n",
        "            child2.append(gene)\n",
        "            continue\n",
        "        while gene in parent2[point1: point2]:\n",
        "            idx = parent2[point1: point2].index(gene)\n",
        "            gene = parent1[point1: point2][idx]\n",
        "        child2.append(gene)\n",
        "\n",
        "    return child1, child2"
      ],
      "metadata": {
        "id": "vz9foVqkr9i5"
      },
      "execution_count": null,
      "outputs": []
    }
  ]
}