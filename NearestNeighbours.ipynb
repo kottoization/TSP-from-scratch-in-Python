{
 "cells": [
  {
   "cell_type": "code",
   "execution_count": 1,
   "metadata": {},
   "outputs": [],
   "source": [
    "import pandas as pd\n",
    "import numpy as np\n",
    "import numpy.ma as ma \n",
    "data = pd.read_excel(\"Dane_TSP_76.xlsx\")\n",
    "data.pop('Unnamed: 0')\n",
    "cities_lenght = data.values\n",
    "#cities_lenght = np.array(cities_lenght)\n",
    "city_number = list(range(0,len(data)))\n",
    "tour = []"
   ]
  },
  {
   "cell_type": "code",
   "execution_count": 2,
   "metadata": {},
   "outputs": [],
   "source": [
    "def nearest_neighbor(city_tour,cities,tour):\n",
    "    cities[city_tour,tour] = 0\n",
    "    step = np.argmin(ma.masked_where(cities[city_tour]==0,cities[city_tour]))\n",
    "    distance  = cities[city_tour,step]\n",
    "    return(step,distance) #zamaskowane wartości dla 0\n",
    "   \n",
    "\n",
    "    ''' city_tour - obecne miasto na trasie\n",
    "        cities - odległosci między miastami\n",
    "        Zastosowanie funkcji: Znalezenie i zwrot najbliższego sąsiada podanego miasta.      \n",
    "    '''      "
   ]
  },
  {
   "cell_type": "code",
   "execution_count": 3,
   "metadata": {},
   "outputs": [],
   "source": [
    "\n",
    "def nn_method(cities,start_number):\n",
    "    distance_full = 0\n",
    "    start = start_number\n",
    "    tour = [start]\n",
    "    while len(tour) != len(city_number):\n",
    "        step,distance = nearest_neighbor(cities,tour)\n",
    "        tour.append(int(step))\n",
    "        distance_full += distance\n",
    "    distance_full += cities[tour[-1],start] \n",
    "    return (tour,distance_full)\n",
    "    \n",
    "    "
   ]
  },
  {
   "cell_type": "code",
   "execution_count": 4,
   "metadata": {},
   "outputs": [],
   "source": [
    "def nn_method2(data,start_number):\n",
    "    cities = data\n",
    "    cities  = np.array(cities_lenght)\n",
    "    distance_full = 0\n",
    "    start = start_number\n",
    "    tour = [start]\n",
    "    while len(tour) != len(city_number):\n",
    "        step,distance = nearest_neighbor(tour[-1],cities,tour)\n",
    "        tour.append(int(step))\n",
    "        distance_full += distance\n",
    "    distance_full += cities[tour[-1],start] \n",
    "    tour.append(start)\n",
    "    return (tour,distance_full)"
   ]
  },
  {
   "cell_type": "code",
   "execution_count": 5,
   "metadata": {},
   "outputs": [
    {
     "name": "stdout",
     "output_type": "stream",
     "text": [
      " 1 = 153461.92250215416 \n",
      " 2 = 153149.96607816571 \n",
      " 3 = 151762.4425314448 \n",
      " 4 = 143098.48182078966 \n",
      " 5 = 151944.10281134423 \n",
      " 6 = 148347.7776847115 \n",
      " 7 = 154496.50673435483 \n",
      " 8 = 154575.7306146783 \n",
      " 9 = 150803.19564511665 \n",
      " 10 = 142395.35589097705 \n",
      " 11 = 131607.47949461784 \n",
      " 12 = 133895.73187235452 \n",
      " 13 = 135900.81037119424 \n",
      " 14 = 135402.3669377514 \n",
      " 15 = 132173.68812710905 \n",
      " 16 = 130921.00457667322 \n",
      " 17 = 147223.1708158911 \n",
      " 18 = 146281.91403550157 \n",
      " 19 = 147762.1647761388 \n",
      " 20 = 157075.97728066967 \n",
      " 21 = 146571.21565992726 \n",
      " 22 = 149745.75883665888 \n",
      " 23 = 148815.59130935464 \n",
      " 24 = 146868.73720075583 \n",
      " 25 = 149241.5090497626 \n",
      " 26 = 142174.40341226626 \n",
      " 27 = 141588.50368885958 \n",
      " 28 = 151142.10159269447 \n",
      " 29 = 141100.49595720295 \n",
      " 30 = 137132.45366118106 \n",
      " 31 = 142610.53919912002 \n",
      " 32 = 134397.4763348586 \n",
      " 33 = 137933.04413595155 \n",
      " 34 = 145824.3297526153 \n",
      " 35 = 142460.79213407155 \n",
      " 36 = 138647.718943515 \n",
      " 37 = 139638.30582853826 \n",
      " 38 = 140472.92736760963 \n",
      " 39 = 143815.47012078014 \n",
      " 40 = 145677.38994967172 \n",
      " 41 = 151361.45346274046 \n",
      " 42 = 142883.7018258671 \n",
      " 43 = 134688.8235380051 \n",
      " 44 = 147532.26514849564 \n",
      " 45 = 154841.04835956483 \n",
      " 46 = 151006.22270204907 \n",
      " 47 = 147901.02543601237 \n",
      " 48 = 150277.88258748833 \n",
      " 49 = 145860.23429976276 \n",
      " 50 = 151665.2133704429 \n",
      " 51 = 153822.65412655406 \n",
      " 52 = 154235.35879303137 \n",
      " 53 = 155042.66984133847 \n",
      " 54 = 147720.17913992197 \n",
      " 55 = 147136.21597399452 \n",
      " 56 = 149659.9932165019 \n",
      " 57 = 149900.2935969555 \n",
      " 58 = 151370.9080696401 \n",
      " 59 = 150844.4097065663 \n",
      " 60 = 150842.16805127956 \n",
      " 61 = 151317.0169415005 \n",
      " 62 = 153524.46809862021 \n",
      " 63 = 151109.055614482 \n",
      " 64 = 151111.90246340015 \n",
      " 65 = 156883.98242146889 \n",
      " 66 = 156998.684510204 \n",
      " 67 = 151286.75509576304 \n",
      " 68 = 151653.5387909628 \n",
      " 69 = 154700.08168317212 \n",
      " 70 = 149571.6065209575 \n",
      " 71 = 154936.7612006748 \n",
      " 72 = 155012.79785678338 \n",
      " 73 = 154710.5020728707 \n",
      " 74 = 135240.28143773315 \n",
      " 75 = 150504.84254004585 \n",
      " 76 = 150391.91719638475 \n",
      "130921.00457667322\n"
     ]
    }
   ],
   "source": [
    "minl= []\n",
    "for i in city_number:\n",
    "    tour,distance = nn_method2(data,i)\n",
    "    minl.append(distance)\n",
    "    print(f\" {tour[0]+1} = {distance} \")\n",
    "print(min(minl))"
   ]
  }
 ],
 "metadata": {
  "kernelspec": {
   "display_name": "Python 3.9.7 ('base')",
   "language": "python",
   "name": "python3"
  },
  "language_info": {
   "codemirror_mode": {
    "name": "ipython",
    "version": 3
   },
   "file_extension": ".py",
   "mimetype": "text/x-python",
   "name": "python",
   "nbconvert_exporter": "python",
   "pygments_lexer": "ipython3",
   "version": "3.9.7"
  },
  "orig_nbformat": 4,
  "vscode": {
   "interpreter": {
    "hash": "3e275ebd7e1e609145a384b7d2083e895da725ad89900540b062f2455e1eda3f"
   }
  }
 },
 "nbformat": 4,
 "nbformat_minor": 2
}
