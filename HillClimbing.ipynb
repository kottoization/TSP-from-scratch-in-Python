{
 "cells": [
  {
   "cell_type": "code",
   "execution_count": 1,
   "metadata": {},
   "outputs": [],
   "source": [
    "import pandas as pd\n",
    "import numpy as np\n",
    "import numpy.ma as ma \n",
    "import random \n",
    "\n",
    "tsp29 = pd.read_excel(\"TSP_29.xlsx\", index_col=[0])\n",
    "tsp48 = pd.read_excel(\"Dane_TSP_48.xlsx\", index_col=[0])\n",
    "tsp76 = pd.read_excel(\"Dane_TSP_76.xlsx\", index_col=[0])\n",
    "tsp127 = pd.read_excel(\"Dane_TSP_127.xlsx\", index_col=[0])\n",
    "\n",
    "def df_to_array(data):\n",
    "    cities_lenght = np.array(data)\n",
    "    city_number = list(range(0,len(data)))\n",
    "    return (cities_lenght,city_number)\n",
    "\n"
   ]
  },
  {
   "cell_type": "code",
   "execution_count": 2,
   "metadata": {},
   "outputs": [],
   "source": [
    "def randomTour(cities_lenght,city_number):\n",
    "    tour = []\n",
    "    city_number_random = city_number.copy()\n",
    "    for i in range(len(city_number)):\n",
    "        random_step = city_number_random[random.randint(0,len(city_number_random)-1)]\n",
    "        tour.append(random_step)\n",
    "        city_number_random.remove(random_step)\n",
    "    return tour"
   ]
  },
  {
   "cell_type": "code",
   "execution_count": 3,
   "metadata": {},
   "outputs": [],
   "source": [
    "def tourDisatance(cities_lenght,city_number,tour): \n",
    "    tour_distance = 0\n",
    "    for i in range(len(city_number)):\n",
    "        tour_distance = tour_distance + cities_lenght[tour[i-1]][tour[i]] #pierwsze doda ostatnie miasto z pierwszym a później sprawdzi po koleji\n",
    "    return tour_distance\n"
   ]
  },
  {
   "cell_type": "code",
   "execution_count": 4,
   "metadata": {},
   "outputs": [],
   "source": [
    "def randomTour_max(cities_lenght,city_number,max_distance):\n",
    "    tour = []\n",
    "    city_number_random = city_number.copy()\n",
    "    for i in range(len(city_number)):\n",
    "        random_step = city_number_random[random.randint(0,len(city_number_random)-1)]\n",
    "        tour.append(random_step)\n",
    "        city_number_random.remove(random_step)\n",
    "    if (tourDisatance(cities_lenght,city_number,tour)>max_distance):\n",
    "        tour = randomTour_max(cities_lenght,city_number,max_distance)\n",
    "    return tour"
   ]
  },
  {
   "cell_type": "code",
   "execution_count": 5,
   "metadata": {},
   "outputs": [
    {
     "name": "stdout",
     "output_type": "stream",
     "text": [
      "579530.3795557554\n",
      "579970.0728548001\n",
      "574954.5307078317\n",
      "571318.7617654951\n",
      "578780.5611466999\n",
      "571701.6283677064\n",
      "568193.7850417878\n",
      "573474.1294816596\n",
      "566051.9551119644\n",
      "576272.6787702782\n",
      "566483.6028288128\n",
      "571471.6770939407\n",
      "577741.1811673808\n",
      "572326.4257198104\n",
      "560652.5578806312\n",
      "576622.5197018597\n",
      "571051.2589026716\n",
      "576885.4449490197\n",
      "577491.9108009782\n",
      "565427.0812232106\n",
      "566142.9106483446\n",
      "579395.9490562618\n",
      "579431.6570282975\n",
      "567229.0989433723\n",
      "577115.5731697007\n",
      "569250.6792078242\n",
      "575393.7843129338\n",
      "571890.164292777\n",
      "570117.1947582308\n",
      "579518.4023862589\n",
      "576257.773940799\n",
      "574100.6721644057\n",
      "575689.974105833\n",
      "577709.7186122906\n",
      "575161.6450422131\n",
      "574654.296215508\n",
      "573917.0264921408\n",
      "579286.8627834915\n",
      "579538.7750019574\n",
      "575286.5890027682\n",
      "578329.8567467058\n",
      "570370.1294389251\n",
      "579270.0030908522\n",
      "578205.8188832143\n",
      "579292.124108323\n",
      "575082.6929701741\n",
      "575479.7144217748\n",
      "560837.5747725829\n",
      "578572.6725277404\n",
      "575682.4752568675\n",
      "579756.6650431656\n",
      "577309.1703228928\n",
      "566158.5618424327\n",
      "573566.4017764502\n",
      "578246.371583873\n",
      "569340.6477391098\n",
      "564346.5989665012\n",
      "579571.8751764006\n",
      "571676.8396838156\n",
      "571690.6516353698\n",
      "579843.329968694\n",
      "563442.8083610218\n",
      "572530.2692218117\n",
      "563564.9963697912\n",
      "576772.4354104343\n",
      "577394.9702028383\n",
      "560488.1753128439\n",
      "565629.2410861317\n",
      "579069.7371300117\n",
      "578078.7278648616\n",
      "560272.3776612266\n",
      "576261.070620673\n",
      "578007.4214346015\n",
      "571877.672859638\n",
      "577588.8677579486\n",
      "578210.2580955618\n",
      "564392.4575032438\n",
      "574272.0448878448\n",
      "578190.1027938899\n",
      "579604.9103003427\n",
      "576160.2678568623\n",
      "572544.1521624062\n",
      "579747.1365530539\n",
      "575979.9426227853\n",
      "571101.3037043607\n",
      "560227.7529834\n",
      "578806.0675682166\n",
      "575780.9794931222\n",
      "577478.2587866882\n",
      "568577.054706038\n",
      "570334.2160725918\n",
      "573725.1626324448\n",
      "569132.5635859661\n",
      "551356.0329079203\n",
      "576093.6955095726\n",
      "579172.9021660924\n",
      "552503.0147537879\n",
      "577215.0327567584\n",
      "570381.2265874085\n",
      "570476.926893134\n"
     ]
    }
   ],
   "source": [
    "for i in range(100):\n",
    "    cities_lenght,city_number = df_to_array(tsp127)\n",
    "    x = randomTour_max(cities_lenght,city_number,580000)\n",
    "    print(tourDisatance(cities_lenght,city_number,x))\n"
   ]
  },
  {
   "cell_type": "code",
   "execution_count": 6,
   "metadata": {},
   "outputs": [],
   "source": [
    "def Neighbours(tour,city_number):\n",
    "    neighbours = []\n",
    "    for i in range(0,len(city_number)):\n",
    "        for j in range(i+1,len(city_number)):\n",
    "            neighbour = tour.copy()\n",
    "            neighbour[i] =  tour[j]\n",
    "            neighbour[j] = tour[i] \n",
    "            neighbours.append(neighbour) #lista z wszystkimi sąsiadami od podanego _tour_. Sąsiedztwo typ [1,2,3] -> [2,1,3],[3,2,1][1,3,2](wymiani kązdy zkażdym)\n",
    "    return neighbours\n"
   ]
  },
  {
   "cell_type": "code",
   "execution_count": 7,
   "metadata": {},
   "outputs": [],
   "source": [
    "def Neighbours2(tour,city_number): \n",
    "    neighbours = []\n",
    "    for i in range(0,len(city_number)):\n",
    "        for j in range(0,len(city_number)):\n",
    "            neighbour = tour.copy()\n",
    "            step = neighbour.pop(i)\n",
    "            neighbour.insert(j,step)\n",
    "            neighbours.append(neighbour) #lista z wszystkimi sąsiadami od podanego _tour_. Sąsiedztwo typ [1,2,3] -> [2,1,3],[2,3,1][1,3,2](wymiani kązdy zkażdym)\n",
    "    return neighbours"
   ]
  },
  {
   "cell_type": "code",
   "execution_count": 8,
   "metadata": {},
   "outputs": [],
   "source": [
    "def TheBestNeighbour(cities_lenght,city_number,neighbours): #metoda dla najlepszego sąsiada\n",
    "    best_distance = tourDisatance(cities_lenght,city_number,neighbours[0])\n",
    "    best_neighbour = neighbours[0]\n",
    "    for i in neighbours:\n",
    "        distance = tourDisatance(cities_lenght,city_number,i)\n",
    "        if distance < best_distance:\n",
    "            best_distance = distance\n",
    "            best_neighbour = i\n",
    "    return best_distance,best_neighbour"
   ]
  },
  {
   "cell_type": "code",
   "execution_count": 9,
   "metadata": {},
   "outputs": [],
   "source": [
    "def TheBestNeighbour2(cities_lenght,city_number,neighbours,solution_distance): #metoda dla pierwszego lepszego sąsiada. wymiana [1,2,3,4] -> [3,2,1,4] swap wymiana 2 miast miejscami\n",
    "    best_distance = solution_distance\n",
    "    best_neighbour = []\n",
    "    neighbours_method = neighbours.copy()\n",
    "    while (len(neighbours_method) != 0):\n",
    "        random_neighbour = random.choice(neighbours_method)\n",
    "        distance = tourDisatance(cities_lenght,city_number,random_neighbour)\n",
    "        if distance < best_distance:\n",
    "            best_distance = distance\n",
    "            best_neighbour = random_neighbour.copy()\n",
    "            break\n",
    "        else:\n",
    "            neighbours_method.remove(random_neighbour)\n",
    "    return best_distance,best_neighbour\n"
   ]
  },
  {
   "cell_type": "code",
   "execution_count": 10,
   "metadata": {},
   "outputs": [],
   "source": [
    "def IHC(xlsx_data,limit_for_itteration,kind_of_neighbours,max_start_distance):  #wybiera najlepszego sąsiada\n",
    "    cities_lenght,city_number = df_to_array(xlsx_data)\n",
    "    random_tour = randomTour_max(cities_lenght,city_number,max_start_distance)\n",
    "    solution_tour = random_tour.copy()\n",
    "    tour_distance = tourDisatance(cities_lenght,city_number,random_tour)\n",
    "    solution_distance = tour_distance.copy()\n",
    "    neighbours = kind_of_neighbours(random_tour,city_number)\n",
    "    best_distance,best_neighbour = TheBestNeighbour2(cities_lenght,city_number,neighbours,solution_distance)\n",
    "    number_of_iterration = 0\n",
    "\n",
    "    while ((solution_distance > best_distance) and (number_of_iterration < limit_for_itteration) ): #jeśli zaszła zmiana najlepszego wyniku (nie byliśmy w ekstremum.)\n",
    "        solution_tour = best_neighbour\n",
    "        solution_distance = best_distance\n",
    "        neighbours = kind_of_neighbours(solution_tour,city_number)\n",
    "        best_distance,best_neighbour = TheBestNeighbour2(cities_lenght,city_number,neighbours,solution_distance)\n",
    "        number_of_iterration += 1 \n",
    "\n",
    "\n",
    "    return solution_tour,solution_distance,random_tour,tour_distance,number_of_iterration\n",
    "\n",
    "\n",
    "    "
   ]
  },
  {
   "cell_type": "code",
   "execution_count": 11,
   "metadata": {},
   "outputs": [],
   "source": [
    "\n",
    "def IHC2(xlsx_data,limit): #wybiera pierwszego lepszego sąsiada\n",
    "    cities_lenght,city_number = df_to_array(xlsx_data)\n",
    "    random_tour = randomTour(cities_lenght,city_number)\n",
    "    solution_tour = random_tour.copy()\n",
    "    tour_distance = tourDisatance(cities_lenght,city_number,random_tour)\n",
    "    solution_distance = tour_distance\n",
    "    neighbours = Neighbours2(random_tour,city_number)\n",
    "    best_distance,best_neighbour = TheBestNeighbour2(cities_lenght,city_number,neighbours,solution_distance)\n",
    "    x = 0\n",
    "\n",
    "    while ((solution_distance > best_distance) and (x<limit)): #jeśli zaszła zmiana najlepszego wyniku (nie byliśmy w ekstremum.)\n",
    "        solution_tour = best_neighbour\n",
    "        solution_distance = best_distance\n",
    "        neighbours = Neighbours2(solution_tour,city_number)\n",
    "        best_distance,best_neighbour = TheBestNeighbour2(cities_lenght,city_number,neighbours,solution_distance)\n",
    "        x += 1 \n",
    "\n",
    "\n",
    "    return solution_tour,solution_distance,random_tour,tour_distance,x"
   ]
  },
  {
   "cell_type": "code",
   "execution_count": 20,
   "metadata": {},
   "outputs": [
    {
     "ename": "KeyboardInterrupt",
     "evalue": "",
     "output_type": "error",
     "traceback": [
      "\u001b[1;31m---------------------------------------------------------------------------\u001b[0m",
      "\u001b[1;31mKeyboardInterrupt\u001b[0m                         Traceback (most recent call last)",
      "\u001b[1;32m~\\AppData\\Local\\Temp/ipykernel_18372/2571645808.py\u001b[0m in \u001b[0;36m<module>\u001b[1;34m\u001b[0m\n\u001b[1;32m----> 1\u001b[1;33m \u001b[0msolution_tour\u001b[0m\u001b[1;33m,\u001b[0m\u001b[0msolution_distance\u001b[0m\u001b[1;33m,\u001b[0m\u001b[0mrandom_tour\u001b[0m\u001b[1;33m,\u001b[0m\u001b[0mtour_disatance\u001b[0m\u001b[1;33m,\u001b[0m\u001b[0mx\u001b[0m\u001b[1;33m=\u001b[0m \u001b[0mIHC\u001b[0m\u001b[1;33m(\u001b[0m\u001b[0mtsp127\u001b[0m\u001b[1;33m,\u001b[0m\u001b[1;36m1000\u001b[0m\u001b[1;33m,\u001b[0m\u001b[0mNeighbours2\u001b[0m\u001b[1;33m,\u001b[0m\u001b[1;36m580000\u001b[0m\u001b[1;33m)\u001b[0m\u001b[1;33m\u001b[0m\u001b[1;33m\u001b[0m\u001b[0m\n\u001b[0m\u001b[0;32m      2\u001b[0m \u001b[1;33m\u001b[0m\u001b[0m\n\u001b[0;32m      3\u001b[0m print(f\"\"\"Pierwsza wylosowana trasa:\n\u001b[0;32m      4\u001b[0m \u001b[1;33m\u001b[0m\u001b[0m\n\u001b[0;32m      5\u001b[0m \u001b[1;33m{\u001b[0m\u001b[0mrandom_tour\u001b[0m\u001b[1;33m}\u001b[0m\u001b[1;33m\u001b[0m\u001b[1;33m\u001b[0m\u001b[0m\n",
      "\u001b[1;32m~\\AppData\\Local\\Temp/ipykernel_18372/2676843894.py\u001b[0m in \u001b[0;36mIHC\u001b[1;34m(xlsx_data, limit_for_itteration, kind_of_neighbours, max_start_distance)\u001b[0m\n\u001b[0;32m     13\u001b[0m         \u001b[0msolution_distance\u001b[0m \u001b[1;33m=\u001b[0m \u001b[0mbest_distance\u001b[0m\u001b[1;33m\u001b[0m\u001b[1;33m\u001b[0m\u001b[0m\n\u001b[0;32m     14\u001b[0m         \u001b[0mneighbours\u001b[0m \u001b[1;33m=\u001b[0m \u001b[0mkind_of_neighbours\u001b[0m\u001b[1;33m(\u001b[0m\u001b[0msolution_tour\u001b[0m\u001b[1;33m,\u001b[0m\u001b[0mcity_number\u001b[0m\u001b[1;33m)\u001b[0m\u001b[1;33m\u001b[0m\u001b[1;33m\u001b[0m\u001b[0m\n\u001b[1;32m---> 15\u001b[1;33m         \u001b[0mbest_distance\u001b[0m\u001b[1;33m,\u001b[0m\u001b[0mbest_neighbour\u001b[0m \u001b[1;33m=\u001b[0m \u001b[0mTheBestNeighbour2\u001b[0m\u001b[1;33m(\u001b[0m\u001b[0mcities_lenght\u001b[0m\u001b[1;33m,\u001b[0m\u001b[0mcity_number\u001b[0m\u001b[1;33m,\u001b[0m\u001b[0mneighbours\u001b[0m\u001b[1;33m,\u001b[0m\u001b[0msolution_distance\u001b[0m\u001b[1;33m)\u001b[0m\u001b[1;33m\u001b[0m\u001b[1;33m\u001b[0m\u001b[0m\n\u001b[0m\u001b[0;32m     16\u001b[0m         \u001b[0mnumber_of_iterration\u001b[0m \u001b[1;33m+=\u001b[0m \u001b[1;36m1\u001b[0m\u001b[1;33m\u001b[0m\u001b[1;33m\u001b[0m\u001b[0m\n\u001b[0;32m     17\u001b[0m \u001b[1;33m\u001b[0m\u001b[0m\n",
      "\u001b[1;32m~\\AppData\\Local\\Temp/ipykernel_18372/2486948353.py\u001b[0m in \u001b[0;36mTheBestNeighbour2\u001b[1;34m(cities_lenght, city_number, neighbours, solution_distance)\u001b[0m\n\u001b[0;32m     11\u001b[0m             \u001b[1;32mbreak\u001b[0m\u001b[1;33m\u001b[0m\u001b[1;33m\u001b[0m\u001b[0m\n\u001b[0;32m     12\u001b[0m         \u001b[1;32melse\u001b[0m\u001b[1;33m:\u001b[0m\u001b[1;33m\u001b[0m\u001b[1;33m\u001b[0m\u001b[0m\n\u001b[1;32m---> 13\u001b[1;33m             \u001b[0mneighbours_method\u001b[0m\u001b[1;33m.\u001b[0m\u001b[0mremove\u001b[0m\u001b[1;33m(\u001b[0m\u001b[0mrandom_neighbour\u001b[0m\u001b[1;33m)\u001b[0m\u001b[1;33m\u001b[0m\u001b[1;33m\u001b[0m\u001b[0m\n\u001b[0m\u001b[0;32m     14\u001b[0m     \u001b[1;32mreturn\u001b[0m \u001b[0mbest_distance\u001b[0m\u001b[1;33m,\u001b[0m\u001b[0mbest_neighbour\u001b[0m\u001b[1;33m\u001b[0m\u001b[1;33m\u001b[0m\u001b[0m\n",
      "\u001b[1;31mKeyboardInterrupt\u001b[0m: "
     ]
    }
   ],
   "source": [
    "solution_tour,solution_distance,random_tour,tour_disatance,x= IHC(tsp127,1000,Neighbours2,580000)\n",
    "\n",
    "print(f\"\"\"Pierwsza wylosowana trasa:\n",
    "\n",
    "{random_tour}\n",
    "\n",
    "długość trasy: {tour_disatance}\n",
    "\n",
    "Znalezenienie ekstremum za pomocą metody (wspinaczkowej) IHC\n",
    "Najelpsza trasa: \n",
    "{solution_tour}\n",
    "\n",
    "długość trasy: {solution_distance}\n",
    "\n",
    "print: liczba iteracji: {x}\n",
    " \"\"\")"
   ]
  },
  {
   "cell_type": "code",
   "execution_count": 41,
   "metadata": {},
   "outputs": [],
   "source": [
    "def TheBestIHC(number_start,xlsx_data,limit,kind_of_neighbours,max_start_distance):\n",
    "    best_tour,best_result,_,_,iteration_number= IHC(xlsx_data,limit,kind_of_neighbours,max_start_distance)\n",
    "    for i in range(0,number_start):\n",
    "        solution_tour,solution_distance,random_tour,tour_distance,number_of_iterration= IHC(xlsx_data,limit,kind_of_neighbours,max_start_distance)\n",
    "        if (best_result > solution_distance) :\n",
    "            best_result = solution_distance\n",
    "            best_tour = solution_tour\n",
    "            iteration_number = number_of_iterration\n",
    "            best_tour_show = best_tour.copy()\n",
    "            best_tour_show = [x+1 for x in best_tour_show]\n",
    "            print(f\"\"\"\n",
    "            wynik : {best_result} , liczba iteracji wewnątrz algorytmu:{iteration_number}\n",
    "            trasa: {best_tour_show}\n",
    "            \"\"\") \n",
    "    return best_result,best_tour_show,iteration_number"
   ]
  },
  {
   "cell_type": "markdown",
   "metadata": {},
   "source": []
  },
  {
   "cell_type": "code",
   "execution_count": 34,
   "metadata": {},
   "outputs": [
    {
     "name": "stdout",
     "output_type": "stream",
     "text": [
      "\n",
      "            wynik : 2135,58\n",
      "            trasa: [1, 21, 13, 19, 15, 18, 17, 14, 22, 11, 4, 10, 20, 2, 3, 29, 26, 5, 9, 12, 6, 28, 8, 27, 23, 7, 25, 16, 24]\n",
      "            \n",
      "\n",
      "            wynik : 2113,67\n",
      "            trasa: [6, 12, 9, 5, 21, 1, 28, 8, 24, 27, 23, 7, 25, 11, 22, 14, 17, 18, 15, 4, 19, 16, 13, 10, 20, 2, 3, 29, 26]\n",
      "            \n",
      "\n",
      "            wynik : 2080,67\n",
      "            trasa: [9, 12, 6, 28, 1, 8, 16, 19, 4, 15, 18, 17, 14, 22, 11, 25, 7, 23, 27, 24, 13, 10, 20, 21, 2, 3, 29, 26, 5]\n",
      "            \n",
      "\n",
      "            wynik : 2055,67\n",
      "            trasa: [26, 29, 3, 2, 21, 1, 8, 27, 23, 7, 25, 19, 11, 22, 14, 17, 18, 15, 4, 10, 20, 13, 16, 24, 28, 6, 12, 9, 5]\n",
      "            \n",
      "\n",
      "            wynik : 2028,60\n",
      "            trasa: [4, 20, 10, 13, 21, 2, 3, 29, 26, 5, 9, 12, 6, 28, 1, 8, 24, 16, 27, 23, 7, 25, 19, 11, 22, 14, 17, 18, 15]\n",
      "            \n",
      "\n",
      "            wynik : 2026,60\n",
      "            trasa: [16, 27, 23, 7, 25, 19, 11, 22, 14, 17, 18, 15, 4, 10, 20, 21, 2, 3, 29, 26, 5, 9, 12, 6, 28, 1, 8, 24, 13]\n",
      "            \n",
      "Najlepszy wynik : 2026 \n",
      " Najlepsza trasa : [16, 27, 23, 7, 25, 19, 11, 22, 14, 17, 18, 15, 4, 10, 20, 21, 2, 3, 29, 26, 5, 9, 12, 6, 28, 1, 8, 24, 13]\n",
      " Liczba iteracji w najlepszej próbie : 60\n"
     ]
    }
   ],
   "source": [
    "best_result,best_tour,iteration_number = TheBestIHC(100,tsp29,200,Neighbours2,40000)\n",
    "print(f\"Najlepszy wynik : {best_result} \\n Najlepsza trasa : {best_tour}\\n Liczba iteracji w najlepszej próbie : {iteration_number}\")\n"
   ]
  },
  {
   "cell_type": "code",
   "execution_count": null,
   "metadata": {},
   "outputs": [],
   "source": [
    "start_iteration = [20,100,1000,3000]\n",
    "ihc_iteration = [20,50,100,200]\n",
    "kind_neighbours = [Neighbours,Neighbours2]\n",
    "start_distance = [4800,5200,5800]\n",
    "data = [tsp29,tsp48,tsp76,tsp127]"
   ]
  },
  {
   "cell_type": "code",
   "execution_count": null,
   "metadata": {},
   "outputs": [
    {
     "ename": "KeyboardInterrupt",
     "evalue": "",
     "output_type": "error",
     "traceback": [
      "\u001b[1;31m---------------------------------------------------------------------------\u001b[0m",
      "\u001b[1;31mKeyboardInterrupt\u001b[0m                         Traceback (most recent call last)",
      "\u001b[1;32m~\\AppData\\Local\\Temp/ipykernel_19852/1122323461.py\u001b[0m in \u001b[0;36m<module>\u001b[1;34m\u001b[0m\n\u001b[0;32m      6\u001b[0m             \u001b[0mminim\u001b[0m \u001b[1;33m=\u001b[0m \u001b[1;36m10000\u001b[0m\u001b[1;33m\u001b[0m\u001b[1;33m\u001b[0m\u001b[0m\n\u001b[0;32m      7\u001b[0m             \u001b[1;32mfor\u001b[0m \u001b[0mi\u001b[0m \u001b[1;32min\u001b[0m \u001b[0mrange\u001b[0m\u001b[1;33m(\u001b[0m\u001b[1;36m20\u001b[0m\u001b[1;33m)\u001b[0m\u001b[1;33m:\u001b[0m\u001b[1;33m\u001b[0m\u001b[1;33m\u001b[0m\u001b[0m\n\u001b[1;32m----> 8\u001b[1;33m                 \u001b[0mbest_result\u001b[0m\u001b[1;33m,\u001b[0m\u001b[0mbest_tour\u001b[0m\u001b[1;33m,\u001b[0m\u001b[0miteration_number\u001b[0m \u001b[1;33m=\u001b[0m \u001b[0mTheBestIHC\u001b[0m\u001b[1;33m(\u001b[0m\u001b[1;36m100\u001b[0m\u001b[1;33m,\u001b[0m\u001b[0mtsp29\u001b[0m\u001b[1;33m,\u001b[0m\u001b[0mii\u001b[0m\u001b[1;33m,\u001b[0m\u001b[0mkn\u001b[0m\u001b[1;33m,\u001b[0m\u001b[0msd\u001b[0m\u001b[1;33m)\u001b[0m\u001b[1;33m\u001b[0m\u001b[1;33m\u001b[0m\u001b[0m\n\u001b[0m\u001b[0;32m      9\u001b[0m                 \u001b[0md20\u001b[0m \u001b[1;33m+=\u001b[0m \u001b[0mbest_result\u001b[0m\u001b[1;33m\u001b[0m\u001b[1;33m\u001b[0m\u001b[0m\n\u001b[0;32m     10\u001b[0m                 \u001b[1;32mif\u001b[0m \u001b[1;33m(\u001b[0m\u001b[0mbest_result\u001b[0m \u001b[1;33m<\u001b[0m \u001b[0mminim\u001b[0m\u001b[1;33m)\u001b[0m \u001b[1;33m:\u001b[0m\u001b[1;33m\u001b[0m\u001b[1;33m\u001b[0m\u001b[0m\n",
      "\u001b[1;32m~\\AppData\\Local\\Temp/ipykernel_19852/2537337237.py\u001b[0m in \u001b[0;36mTheBestIHC\u001b[1;34m(number_start, xlsx_data, limit, kind_of_neighbours, max_start_distance)\u001b[0m\n\u001b[0;32m      2\u001b[0m     \u001b[0mbest_tour\u001b[0m\u001b[1;33m,\u001b[0m\u001b[0mbest_result\u001b[0m\u001b[1;33m,\u001b[0m\u001b[0m_\u001b[0m\u001b[1;33m,\u001b[0m\u001b[0m_\u001b[0m\u001b[1;33m,\u001b[0m\u001b[0miteration_number\u001b[0m\u001b[1;33m=\u001b[0m \u001b[0mIHC\u001b[0m\u001b[1;33m(\u001b[0m\u001b[0mxlsx_data\u001b[0m\u001b[1;33m,\u001b[0m\u001b[0mlimit\u001b[0m\u001b[1;33m,\u001b[0m\u001b[0mkind_of_neighbours\u001b[0m\u001b[1;33m,\u001b[0m\u001b[0mmax_start_distance\u001b[0m\u001b[1;33m)\u001b[0m\u001b[1;33m\u001b[0m\u001b[1;33m\u001b[0m\u001b[0m\n\u001b[0;32m      3\u001b[0m     \u001b[1;32mfor\u001b[0m \u001b[0mi\u001b[0m \u001b[1;32min\u001b[0m \u001b[0mrange\u001b[0m\u001b[1;33m(\u001b[0m\u001b[1;36m0\u001b[0m\u001b[1;33m,\u001b[0m\u001b[0mnumber_start\u001b[0m\u001b[1;33m)\u001b[0m\u001b[1;33m:\u001b[0m\u001b[1;33m\u001b[0m\u001b[1;33m\u001b[0m\u001b[0m\n\u001b[1;32m----> 4\u001b[1;33m         \u001b[0msolution_tour\u001b[0m\u001b[1;33m,\u001b[0m\u001b[0msolution_distance\u001b[0m\u001b[1;33m,\u001b[0m\u001b[0mrandom_tour\u001b[0m\u001b[1;33m,\u001b[0m\u001b[0mtour_distance\u001b[0m\u001b[1;33m,\u001b[0m\u001b[0mnumber_of_iterration\u001b[0m\u001b[1;33m=\u001b[0m \u001b[0mIHC\u001b[0m\u001b[1;33m(\u001b[0m\u001b[0mxlsx_data\u001b[0m\u001b[1;33m,\u001b[0m\u001b[0mlimit\u001b[0m\u001b[1;33m,\u001b[0m\u001b[0mkind_of_neighbours\u001b[0m\u001b[1;33m,\u001b[0m\u001b[0mmax_start_distance\u001b[0m\u001b[1;33m)\u001b[0m\u001b[1;33m\u001b[0m\u001b[1;33m\u001b[0m\u001b[0m\n\u001b[0m\u001b[0;32m      5\u001b[0m         \u001b[1;32mif\u001b[0m \u001b[1;33m(\u001b[0m\u001b[0mbest_result\u001b[0m \u001b[1;33m>\u001b[0m \u001b[0msolution_distance\u001b[0m\u001b[1;33m)\u001b[0m \u001b[1;33m:\u001b[0m\u001b[1;33m\u001b[0m\u001b[1;33m\u001b[0m\u001b[0m\n\u001b[0;32m      6\u001b[0m             \u001b[0mbest_result\u001b[0m \u001b[1;33m=\u001b[0m \u001b[0msolution_distance\u001b[0m\u001b[1;33m\u001b[0m\u001b[1;33m\u001b[0m\u001b[0m\n",
      "\u001b[1;32m~\\AppData\\Local\\Temp/ipykernel_19852/2676843894.py\u001b[0m in \u001b[0;36mIHC\u001b[1;34m(xlsx_data, limit_for_itteration, kind_of_neighbours, max_start_distance)\u001b[0m\n\u001b[0;32m     13\u001b[0m         \u001b[0msolution_distance\u001b[0m \u001b[1;33m=\u001b[0m \u001b[0mbest_distance\u001b[0m\u001b[1;33m\u001b[0m\u001b[1;33m\u001b[0m\u001b[0m\n\u001b[0;32m     14\u001b[0m         \u001b[0mneighbours\u001b[0m \u001b[1;33m=\u001b[0m \u001b[0mkind_of_neighbours\u001b[0m\u001b[1;33m(\u001b[0m\u001b[0msolution_tour\u001b[0m\u001b[1;33m,\u001b[0m\u001b[0mcity_number\u001b[0m\u001b[1;33m)\u001b[0m\u001b[1;33m\u001b[0m\u001b[1;33m\u001b[0m\u001b[0m\n\u001b[1;32m---> 15\u001b[1;33m         \u001b[0mbest_distance\u001b[0m\u001b[1;33m,\u001b[0m\u001b[0mbest_neighbour\u001b[0m \u001b[1;33m=\u001b[0m \u001b[0mTheBestNeighbour2\u001b[0m\u001b[1;33m(\u001b[0m\u001b[0mcities_lenght\u001b[0m\u001b[1;33m,\u001b[0m\u001b[0mcity_number\u001b[0m\u001b[1;33m,\u001b[0m\u001b[0mneighbours\u001b[0m\u001b[1;33m,\u001b[0m\u001b[0msolution_distance\u001b[0m\u001b[1;33m)\u001b[0m\u001b[1;33m\u001b[0m\u001b[1;33m\u001b[0m\u001b[0m\n\u001b[0m\u001b[0;32m     16\u001b[0m         \u001b[0mnumber_of_iterration\u001b[0m \u001b[1;33m+=\u001b[0m \u001b[1;36m1\u001b[0m\u001b[1;33m\u001b[0m\u001b[1;33m\u001b[0m\u001b[0m\n\u001b[0;32m     17\u001b[0m \u001b[1;33m\u001b[0m\u001b[0m\n",
      "\u001b[1;32m~\\AppData\\Local\\Temp/ipykernel_19852/2486948353.py\u001b[0m in \u001b[0;36mTheBestNeighbour2\u001b[1;34m(cities_lenght, city_number, neighbours, solution_distance)\u001b[0m\n\u001b[0;32m      5\u001b[0m     \u001b[1;32mwhile\u001b[0m \u001b[1;33m(\u001b[0m\u001b[0mlen\u001b[0m\u001b[1;33m(\u001b[0m\u001b[0mneighbours_method\u001b[0m\u001b[1;33m)\u001b[0m \u001b[1;33m!=\u001b[0m \u001b[1;36m0\u001b[0m\u001b[1;33m)\u001b[0m\u001b[1;33m:\u001b[0m\u001b[1;33m\u001b[0m\u001b[1;33m\u001b[0m\u001b[0m\n\u001b[0;32m      6\u001b[0m         \u001b[0mrandom_neighbour\u001b[0m \u001b[1;33m=\u001b[0m \u001b[0mrandom\u001b[0m\u001b[1;33m.\u001b[0m\u001b[0mchoice\u001b[0m\u001b[1;33m(\u001b[0m\u001b[0mneighbours_method\u001b[0m\u001b[1;33m)\u001b[0m\u001b[1;33m\u001b[0m\u001b[1;33m\u001b[0m\u001b[0m\n\u001b[1;32m----> 7\u001b[1;33m         \u001b[0mdistance\u001b[0m \u001b[1;33m=\u001b[0m \u001b[0mtourDisatance\u001b[0m\u001b[1;33m(\u001b[0m\u001b[0mcities_lenght\u001b[0m\u001b[1;33m,\u001b[0m\u001b[0mcity_number\u001b[0m\u001b[1;33m,\u001b[0m\u001b[0mrandom_neighbour\u001b[0m\u001b[1;33m)\u001b[0m\u001b[1;33m\u001b[0m\u001b[1;33m\u001b[0m\u001b[0m\n\u001b[0m\u001b[0;32m      8\u001b[0m         \u001b[1;32mif\u001b[0m \u001b[0mdistance\u001b[0m \u001b[1;33m<\u001b[0m \u001b[0mbest_distance\u001b[0m\u001b[1;33m:\u001b[0m\u001b[1;33m\u001b[0m\u001b[1;33m\u001b[0m\u001b[0m\n\u001b[0;32m      9\u001b[0m             \u001b[0mbest_distance\u001b[0m \u001b[1;33m=\u001b[0m \u001b[0mdistance\u001b[0m\u001b[1;33m\u001b[0m\u001b[1;33m\u001b[0m\u001b[0m\n",
      "\u001b[1;32m~\\AppData\\Local\\Temp/ipykernel_19852/594606607.py\u001b[0m in \u001b[0;36mtourDisatance\u001b[1;34m(cities_lenght, city_number, tour)\u001b[0m\n\u001b[0;32m      2\u001b[0m     \u001b[0mtour_distance\u001b[0m \u001b[1;33m=\u001b[0m \u001b[1;36m0\u001b[0m\u001b[1;33m\u001b[0m\u001b[1;33m\u001b[0m\u001b[0m\n\u001b[0;32m      3\u001b[0m     \u001b[1;32mfor\u001b[0m \u001b[0mi\u001b[0m \u001b[1;32min\u001b[0m \u001b[0mrange\u001b[0m\u001b[1;33m(\u001b[0m\u001b[0mlen\u001b[0m\u001b[1;33m(\u001b[0m\u001b[0mcity_number\u001b[0m\u001b[1;33m)\u001b[0m\u001b[1;33m)\u001b[0m\u001b[1;33m:\u001b[0m\u001b[1;33m\u001b[0m\u001b[1;33m\u001b[0m\u001b[0m\n\u001b[1;32m----> 4\u001b[1;33m         \u001b[0mtour_distance\u001b[0m \u001b[1;33m=\u001b[0m \u001b[0mtour_distance\u001b[0m \u001b[1;33m+\u001b[0m \u001b[0mcities_lenght\u001b[0m\u001b[1;33m[\u001b[0m\u001b[0mtour\u001b[0m\u001b[1;33m[\u001b[0m\u001b[0mi\u001b[0m\u001b[1;33m-\u001b[0m\u001b[1;36m1\u001b[0m\u001b[1;33m]\u001b[0m\u001b[1;33m]\u001b[0m\u001b[1;33m[\u001b[0m\u001b[0mtour\u001b[0m\u001b[1;33m[\u001b[0m\u001b[0mi\u001b[0m\u001b[1;33m]\u001b[0m\u001b[1;33m]\u001b[0m \u001b[1;31m#pierwsze doda ostatnie miasto z pierwszym a później sprawdzi po koleji\u001b[0m\u001b[1;33m\u001b[0m\u001b[1;33m\u001b[0m\u001b[0m\n\u001b[0m\u001b[0;32m      5\u001b[0m     \u001b[1;32mreturn\u001b[0m \u001b[0mtour_distance\u001b[0m\u001b[1;33m\u001b[0m\u001b[1;33m\u001b[0m\u001b[0m\n",
      "\u001b[1;31mKeyboardInterrupt\u001b[0m: "
     ]
    }
   ],
   "source": [
    "\n",
    "for kn in kind_neighbours:\n",
    "    for ii in ihc_iteration:\n",
    "        for sd in  start_distance:\n",
    "            d20 = 0\n",
    "            minim = 10000\n",
    "            for i in range(20):\n",
    "                best_result,best_tour,iteration_number = TheBestIHC(100,tsp29,ii,kn,sd)\n",
    "                d20 += best_result\n",
    "                if (best_result < minim) :\n",
    "                    minim = best_result\n",
    "            print(f\"\"\" \n",
    "                      29\n",
    "            sąsiedztwo: {kn.__name__}\n",
    "            liczba iteracji wewnąrtrz algorytmu: {ii}\n",
    "            start distance: {sd}\n",
    "            najlepszy wynik: {minim}\n",
    "            średnia: {d20/20}\"\"\")\n"
   ]
  },
  {
   "cell_type": "code",
   "execution_count": null,
   "metadata": {},
   "outputs": [
    {
     "name": "stdout",
     "output_type": "stream",
     "text": [
      " \n",
      "                      29\n",
      "            sąsiedztwo: Neighbours\n",
      "            liczba iteracji wewnąrtrz algorytmu: 100\n",
      "            najlepszy wynik: 13102\n",
      "            średnia: 7036.75\n",
      " \n",
      "                      29\n",
      "            sąsiedztwo: Neighbours2\n",
      "            liczba iteracji wewnąrtrz algorytmu: 100\n",
      "            najlepszy wynik: 11973\n",
      "            średnia: 6415.45\n",
      " \n",
      "                      29\n",
      "            sąsiedztwo: Neighbours\n",
      "            liczba iteracji wewnąrtrz algorytmu: 150\n",
      "            najlepszy wynik: 11456\n",
      "            średnia: 6284.5\n",
      " \n",
      "                      29\n",
      "            sąsiedztwo: Neighbours2\n",
      "            liczba iteracji wewnąrtrz algorytmu: 150\n",
      "            najlepszy wynik: 10882\n",
      "            średnia: 5561.95\n",
      " \n",
      "                      29\n",
      "            sąsiedztwo: Neighbours\n",
      "            liczba iteracji wewnąrtrz algorytmu: 200\n",
      "            najlepszy wynik: 11656\n",
      "            średnia: 6236.55\n",
      " \n",
      "                      29\n",
      "            sąsiedztwo: Neighbours2\n",
      "            liczba iteracji wewnąrtrz algorytmu: 200\n",
      "            najlepszy wynik: 10816\n",
      "            średnia: 5513.45\n",
      " \n",
      "                      29\n",
      "            sąsiedztwo: Neighbours\n",
      "            liczba iteracji wewnąrtrz algorytmu: 300\n",
      "            najlepszy wynik: 11897\n",
      "            średnia: 6203.6\n",
      " \n",
      "                      29\n",
      "            sąsiedztwo: Neighbours2\n",
      "            liczba iteracji wewnąrtrz algorytmu: 300\n",
      "            najlepszy wynik: 10865\n",
      "            średnia: 5515.9\n"
     ]
    }
   ],
   "source": [
    "ihc_iteration = [100,150,200,300]\n",
    "kind_neighbours = [Neighbours,Neighbours2]\n",
    "data = [tsp29,tsp48,tsp76,tsp127]\n",
    "for ii in ihc_iteration:\n",
    "    d20 = 0\n",
    "    minim = 100000\n",
    "    for i in range(10):\n",
    "        best_result,best_tour,iteration_number = TheBestIHC(30,tsp48,ii,kn,100000)\n",
    "        d20 += best_result\n",
    "        if (best_result < minim) :\n",
    "            minim = best_result\n",
    "    print(f\"\"\" \n",
    "                      29\n",
    "            sąsiedztwo: {kn.__name__}\n",
    "            liczba iteracji wewnąrtrz algorytmu: {ii}\n",
    "            najlepszy wynik: {minim}\n",
    "            średnia: {d20/20}\"\"\")"
   ]
  },
  {
   "cell_type": "code",
   "execution_count": null,
   "metadata": {},
   "outputs": [
    {
     "name": "stdout",
     "output_type": "stream",
     "text": [
      " \n",
      "                      29\n",
      "            sąsiedztwo: Neighbours\n",
      "            start_distance: 4800\n",
      "            najlepszy wynik: 143191.0792494091\n",
      "            średnia: 228331.16404923834\n",
      " \n",
      "                      29\n",
      "            sąsiedztwo: Neighbours2\n",
      "            start_distance: 4800\n",
      "            najlepszy wynik: 116031.2614662515\n",
      "            średnia: 180399.86707606987\n"
     ]
    }
   ],
   "source": [
    "start_distance = [45000,40000]\n",
    "kind_neighbours = [Neighbours,Neighbours2]\n",
    "data = [tsp29,tsp48,tsp76,tsp127]\n",
    "# sparawdzanie zależnosći od liczby iteracji przejścia między rozwiązaniami w 1 algorytmiedla miasta 48\n",
    "for kn in kind_neighbours:\n",
    "    d20 = 0\n",
    "    minim = 1000000\n",
    "    for i in range(15):\n",
    "        best_result,best_tour,iteration_number = TheBestIHC(10,tsp76,1000,kn,700000)\n",
    "        d20 += best_result\n",
    "        if (best_result < minim) :\n",
    "            minim = best_result\n",
    "    print(f\"\"\" \n",
    "                      29\n",
    "            sąsiedztwo: {kn.__name__}\n",
    "            start_distance: {sd}\n",
    "            najlepszy wynik: {minim}\n",
    "            średnia: {d20/10}\"\"\")"
   ]
  },
  {
   "cell_type": "code",
   "execution_count": null,
   "metadata": {},
   "outputs": [
    {
     "name": "stdout",
     "output_type": "stream",
     "text": [
      " \n",
      "                      29\n",
      "            start_distance: 700000\n",
      "            najlepszy wynik: 118221.8122278118\n",
      "            średnia: 120395.16389732447\n",
      " \n",
      "                      29\n",
      "            start_distance: 500000\n",
      "            najlepszy wynik: 114076.76291057507\n",
      "            średnia: 118259.41617452819\n"
     ]
    }
   ],
   "source": [
    "start_distance = [700000,500000]\n",
    "kind_neighbours = [Neighbours,Neighbours2]\n",
    "data = [tsp29,tsp48,tsp76,tsp127]\n",
    "# sparawdzanie zależnosći od liczby iteracji przejścia między rozwiązaniami w 1 algorytmiedla miasta 48\n",
    "for sd in start_distance:\n",
    "    d20 = 0\n",
    "    minim = 1000000\n",
    "    for i in range(10):\n",
    "        best_result,best_tour,iteration_number = TheBestIHC(10,tsp76,1000,Neighbours2,sd)\n",
    "        d20 += best_result\n",
    "        if (best_result < minim) :\n",
    "            minim = best_result\n",
    "    print(f\"\"\" \n",
    "                      29\n",
    "            start_distance: {sd}\n",
    "            najlepszy wynik: {minim}\n",
    "            średnia: {d20/10}\"\"\")"
   ]
  },
  {
   "cell_type": "code",
   "execution_count": null,
   "metadata": {},
   "outputs": [
    {
     "name": "stdout",
     "output_type": "stream",
     "text": [
      " \n",
      "                      29\n",
      "            ihc_itteration: 250\n",
      "            najlepszy wynik: 117118.76304480391\n",
      "            średnia: 122182.64070515498\n",
      " \n",
      "                      29\n",
      "            ihc_itteration: 500\n",
      "            najlepszy wynik: 114370.28482569216\n",
      "            średnia: 119233.52596977758\n",
      " \n",
      "                      29\n",
      "            ihc_itteration: 1000\n",
      "            najlepszy wynik: 114065.05573028205\n",
      "            średnia: 119726.00457174517\n",
      " \n",
      "                      29\n",
      "            ihc_itteration: 1500\n",
      "            najlepszy wynik: 116520.36369589258\n",
      "            średnia: 119750.04454959653\n"
     ]
    }
   ],
   "source": [
    "start_distance = [700000,500000]\n",
    "kind_neighbours = [Neighbours,Neighbours2]\n",
    "ihc_iteration = [250,500,1000,1500]\n",
    "data = [tsp29,tsp48,tsp76,tsp127]\n",
    "# sparawdzanie zależnosći od liczby iteracji przejścia między rozwiązaniami w 1 algorytmiedla miasta 48\n",
    "for ii in ihc_iteration:\n",
    "    d20 = 0\n",
    "    minim = 1000000\n",
    "    for i in range(10):\n",
    "        best_result,best_tour,iteration_number = TheBestIHC(10,tsp76,ii,Neighbours2,700000)\n",
    "        d20 += best_result\n",
    "        if (best_result < minim) :\n",
    "            minim = best_result\n",
    "    print(f\"\"\" \n",
    "                      29\n",
    "            ihc_itteration: {ii}\n",
    "            najlepszy wynik: {minim}\n",
    "            średnia: {d20/10}\"\"\")"
   ]
  },
  {
   "cell_type": "code",
   "execution_count": null,
   "metadata": {},
   "outputs": [
    {
     "name": "stdout",
     "output_type": "stream",
     "text": [
      " \n",
      "                      29\n",
      "            sąsiedztwo: Neighbours\n",
      "            najlepszy wynik: 164483.2913280919\n",
      "            średnia: 172007.96805934855\n",
      " \n",
      "                      29\n",
      "            sąsiedztwo: Neighbours2\n",
      "            najlepszy wynik: 134526.87246530387\n",
      "            średnia: 140990.4728570153\n"
     ]
    }
   ],
   "source": [
    "kind_neighbours = [Neighbours,Neighbours2]\n",
    "data = [tsp29,tsp48,tsp76,tsp127]\n",
    "# sparawdzanie zależnosći od liczby iteracji przejścia między rozwiązaniami w 1 algorytmiedla miasta 48\n",
    "for kn in kind_neighbours:\n",
    "    d20 = 0\n",
    "    minim = 100000000\n",
    "    for i in range(7):\n",
    "        best_result,best_tour,iteration_number = TheBestIHC(3,tsp127,1000,kn,7000000)\n",
    "        d20 += best_result\n",
    "        if (best_result < minim) :\n",
    "            minim = best_result\n",
    "    print(f\"\"\" \n",
    "                      29\n",
    "            sąsiedztwo: {kn.__name__}\n",
    "            najlepszy wynik: {minim}\n",
    "            średnia: {d20/7}\"\"\")"
   ]
  },
  {
   "cell_type": "code",
   "execution_count": null,
   "metadata": {},
   "outputs": [
    {
     "name": "stdout",
     "output_type": "stream",
     "text": [
      " \n",
      "                      29\n",
      "            start_distance: 580000\n",
      "            najlepszy wynik: 131052.66212914896\n",
      "            średnia: 139604.9416642839\n",
      " \n",
      "                      29\n",
      "            start_distance: 650000\n",
      "            najlepszy wynik: 136063.46304754433\n",
      "            średnia: 141227.36141789134\n",
      " \n",
      "                      29\n",
      "            start_distance: 700000\n",
      "            najlepszy wynik: 135668.90006046311\n",
      "            średnia: 140701.36829006733\n"
     ]
    }
   ],
   "source": [
    "start_distance = [580000,650000,700000]\n",
    "# sparawdzanie zależnosći od liczby iteracji przejścia między rozwiązaniami w 1 algorytmiedla miasta 48\n",
    "for sd in start_distance:\n",
    "    d20 = 0\n",
    "    minim = 10000000\n",
    "    for i in range(7):\n",
    "        best_result,best_tour,iteration_number = TheBestIHC(3,tsp127,1000,Neighbours2,sd)\n",
    "        d20 += best_result\n",
    "        if (best_result < minim) :\n",
    "            minim = best_result\n",
    "    print(f\"\"\" \n",
    "                      29\n",
    "            start_distance: {sd}\n",
    "            najlepszy wynik: {minim}\n",
    "            średnia: {d20/7}\"\"\")"
   ]
  },
  {
   "cell_type": "code",
   "execution_count": null,
   "metadata": {},
   "outputs": [
    {
     "name": "stdout",
     "output_type": "stream",
     "text": [
      " \n",
      "                      29\n",
      "            ihc_itteration: 500\n",
      "            najlepszy wynik: 139217.82647168092\n",
      "            średnia: 146387.34765914438\n",
      " \n",
      "                      29\n",
      "            ihc_itteration: 1000\n",
      "            najlepszy wynik: 136125.80707916868\n",
      "            średnia: 140081.3992291924\n",
      " \n",
      "                      29\n",
      "            ihc_itteration: 2000\n",
      "            najlepszy wynik: 135558.35183995217\n",
      "            średnia: 140900.31940624217\n"
     ]
    }
   ],
   "source": [
    "start_distance = [45000,40000]\n",
    "kind_neighbours = [Neighbours,Neighbours2]\n",
    "data = [tsp29,tsp48,tsp76,tsp127]\n",
    "ihc_iteration = [500,1000,2000]\n",
    "# sparawdzanie zależnosći od liczby iteracji przejścia między rozwiązaniami w 1 algorytmiedla miasta 48\n",
    "for ii in ihc_iteration:\n",
    "    d20 = 0\n",
    "    minim = 1000000\n",
    "    for i in range(7):\n",
    "        best_result,best_tour,iteration_number = TheBestIHC(10000,tsp127,ii,Neighbours2,700000)\n",
    "        d20 += best_result\n",
    "        if (best_result < minim) :\n",
    "            minim = best_result\n",
    "    print(f\"\"\" \n",
    "                      29\n",
    "            ihc_itteration: {ii}\n",
    "            najlepszy wynik: {minim}\n",
    "            średnia: {d20/7}\"\"\")"
   ]
  },
  {
   "cell_type": "code",
   "execution_count": 37,
   "metadata": {},
   "outputs": [
    {
     "name": "stdout",
     "output_type": "stream",
     "text": [
      "\n",
      "            wynik : 2071 , liczba iteracji wewnątrz algorytmu:51\n",
      "            trasa: [13, 16, 24, 1, 28, 8, 27, 23, 7, 25, 19, 11, 22, 14, 17, 18, 15, 4, 10, 20, 2, 3, 29, 26, 5, 9, 12, 6, 21]\n",
      "            \n",
      "\n",
      "            wynik : 2050 , liczba iteracji wewnątrz algorytmu:57\n",
      "            trasa: [3, 2, 13, 16, 24, 8, 27, 23, 7, 25, 19, 11, 22, 14, 17, 18, 15, 4, 10, 20, 21, 1, 28, 6, 12, 9, 5, 26, 29]\n",
      "            \n",
      "\n",
      "            wynik : 2034 , liczba iteracji wewnątrz algorytmu:40\n",
      "            trasa: [6, 28, 8, 27, 23, 7, 25, 19, 11, 22, 14, 17, 18, 15, 4, 10, 20, 13, 16, 24, 1, 21, 2, 3, 29, 26, 5, 9, 12]\n",
      "            \n",
      "\n",
      "            wynik : 2033 , liczba iteracji wewnątrz algorytmu:56\n",
      "            trasa: [10, 13, 16, 19, 4, 15, 18, 17, 14, 22, 11, 25, 7, 23, 27, 8, 24, 1, 28, 6, 12, 9, 5, 26, 29, 3, 2, 21, 20]\n",
      "            \n",
      "\n",
      "            wynik : 2026 , liczba iteracji wewnątrz algorytmu:50\n",
      "            trasa: [11, 22, 14, 17, 18, 15, 4, 10, 20, 21, 2, 3, 29, 26, 5, 9, 12, 6, 28, 1, 8, 24, 13, 16, 27, 23, 7, 25, 19]\n",
      "            \n",
      "\n",
      "            wynik : 2020 , liczba iteracji wewnątrz algorytmu:42\n",
      "            trasa: [23, 27, 8, 24, 16, 13, 21, 1, 28, 6, 12, 9, 5, 26, 29, 3, 2, 20, 10, 4, 15, 18, 17, 14, 22, 11, 19, 25, 7]\n",
      "            \n",
      "Najlepszy wynik : 2020 \n",
      " Najlepsza trasa : [23, 27, 8, 24, 16, 13, 21, 1, 28, 6, 12, 9, 5, 26, 29, 3, 2, 20, 10, 4, 15, 18, 17, 14, 22, 11, 19, 25, 7]\n",
      " Liczba iteracji w najlepszej próbie : 42\n"
     ]
    }
   ],
   "source": [
    "best_result,best_tour,iteration_number = TheBestIHC(10000,tsp29,100,Neighbours2,4800)\n",
    "print(f\"Najlepszy wynik : {best_result} \\n Najlepsza trasa : {best_tour}\\n Liczba iteracji w najlepszej próbie : {iteration_number}\")"
   ]
  },
  {
   "cell_type": "code",
   "execution_count": 38,
   "metadata": {},
   "outputs": [
    {
     "name": "stdout",
     "output_type": "stream",
     "text": [
      "\n",
      "            wynik : 12191 , liczba iteracji wewnątrz algorytmu:124\n",
      "            trasa: [21, 47, 20, 36, 30, 43, 17, 27, 19, 37, 6, 28, 7, 18, 44, 31, 38, 9, 8, 1, 22, 16, 41, 34, 29, 2, 4, 26, 42, 48, 25, 13, 11, 12, 33, 46, 15, 40, 3, 23, 14, 5, 10, 35, 45, 24, 32, 39]\n",
      "            \n",
      "\n",
      "            wynik : 11313 , liczba iteracji wewnątrz algorytmu:129\n",
      "            trasa: [7, 18, 44, 31, 38, 46, 33, 20, 47, 21, 39, 32, 24, 10, 45, 35, 4, 26, 42, 2, 29, 5, 48, 25, 14, 13, 23, 40, 9, 8, 1, 22, 16, 41, 34, 3, 11, 12, 15, 36, 6, 37, 19, 27, 17, 43, 30, 28]\n",
      "            \n",
      "\n",
      "            wynik : 10880 , liczba iteracji wewnątrz algorytmu:163\n",
      "            trasa: [30, 43, 17, 27, 19, 37, 6, 28, 7, 18, 44, 31, 38, 9, 8, 1, 3, 23, 14, 25, 13, 11, 12, 15, 40, 22, 16, 41, 34, 29, 2, 26, 4, 35, 45, 10, 24, 42, 5, 48, 39, 32, 21, 47, 20, 33, 46, 36]\n",
      "            \n",
      "\n",
      "            wynik : 10807 , liczba iteracji wewnątrz algorytmu:121\n",
      "            trasa: [14, 34, 3, 22, 16, 41, 29, 2, 26, 4, 35, 45, 10, 24, 42, 5, 48, 39, 32, 21, 47, 20, 36, 30, 43, 17, 27, 19, 37, 6, 28, 7, 18, 44, 31, 38, 8, 1, 9, 40, 15, 46, 33, 12, 11, 23, 13, 25]\n",
      "            \n",
      "\n",
      "            wynik : 10792 , liczba iteracji wewnątrz algorytmu:157\n",
      "            trasa: [24, 32, 39, 21, 47, 11, 23, 3, 40, 15, 12, 20, 33, 46, 36, 30, 43, 17, 27, 19, 37, 6, 28, 7, 18, 44, 31, 38, 9, 8, 1, 22, 16, 41, 34, 14, 13, 25, 48, 5, 29, 2, 42, 26, 4, 35, 45, 10]\n",
      "            \n",
      "\n",
      "            wynik : 10684 , liczba iteracji wewnątrz algorytmu:155\n",
      "            trasa: [42, 26, 4, 35, 45, 10, 24, 32, 39, 21, 47, 20, 33, 46, 36, 30, 43, 17, 27, 19, 37, 6, 28, 7, 18, 44, 31, 38, 8, 1, 9, 40, 15, 12, 11, 23, 3, 22, 16, 41, 34, 14, 13, 25, 48, 5, 29, 2]\n",
      "            \n",
      "\n",
      "            wynik : 10628 , liczba iteracji wewnątrz algorytmu:142\n",
      "            trasa: [34, 29, 2, 26, 4, 35, 45, 10, 24, 42, 5, 48, 39, 32, 21, 47, 20, 33, 46, 36, 30, 43, 17, 27, 19, 37, 6, 28, 7, 18, 44, 31, 38, 8, 1, 9, 40, 15, 12, 11, 13, 25, 14, 23, 3, 22, 16, 41]\n",
      "            \n",
      "Najlepszy wynik : 10628 \n",
      " Najlepsza trasa : [34, 29, 2, 26, 4, 35, 45, 10, 24, 42, 5, 48, 39, 32, 21, 47, 20, 33, 46, 36, 30, 43, 17, 27, 19, 37, 6, 28, 7, 18, 44, 31, 38, 8, 1, 9, 40, 15, 12, 11, 13, 25, 14, 23, 3, 22, 16, 41]\n",
      " Liczba iteracji w najlepszej próbie : 142\n"
     ]
    }
   ],
   "source": [
    "best_result,best_tour,iteration_number = TheBestIHC(4000,tsp48,200,Neighbours2,45000)\n",
    "print(f\"Najlepszy wynik : {best_result} \\n Najlepsza trasa : {best_tour}\\n Liczba iteracji w najlepszej próbie : {iteration_number}\")"
   ]
  },
  {
   "cell_type": "code",
   "execution_count": 39,
   "metadata": {},
   "outputs": [
    {
     "name": "stdout",
     "output_type": "stream",
     "text": [
      "\n",
      "            wynik : 121761.06267724869 , liczba iteracji wewnątrz algorytmu:274\n",
      "            trasa: [25, 22, 23, 1, 76, 75, 2, 8, 7, 6, 9, 10, 11, 12, 13, 14, 74, 15, 16, 17, 18, 37, 36, 35, 34, 33, 32, 29, 27, 48, 44, 30, 31, 19, 20, 5, 3, 4, 21, 24, 46, 45, 47, 69, 68, 70, 67, 50, 49, 51, 66, 65, 71, 72, 73, 64, 63, 62, 61, 41, 40, 38, 39, 60, 59, 58, 57, 56, 55, 52, 53, 54, 42, 43, 28, 26]\n",
      "            \n",
      "\n",
      "            wynik : 118609.83757904338 , liczba iteracji wewnątrz algorytmu:243\n",
      "            trasa: [29, 30, 31, 19, 20, 5, 4, 3, 6, 9, 10, 11, 35, 34, 55, 56, 49, 50, 67, 70, 68, 69, 47, 48, 44, 43, 42, 54, 53, 52, 51, 66, 65, 71, 72, 73, 64, 63, 62, 61, 57, 58, 59, 60, 41, 40, 39, 38, 36, 37, 18, 17, 16, 15, 74, 14, 13, 12, 8, 7, 2, 75, 76, 1, 23, 22, 21, 25, 24, 46, 45, 27, 26, 28, 33, 32]\n",
      "            \n",
      "\n",
      "            wynik : 117847.59370297268 , liczba iteracji wewnątrz algorytmu:242\n",
      "            trasa: [52, 53, 54, 42, 43, 28, 29, 30, 31, 19, 20, 5, 3, 2, 75, 76, 1, 23, 22, 24, 46, 45, 44, 48, 47, 69, 68, 70, 67, 50, 49, 55, 57, 63, 73, 72, 71, 64, 62, 61, 41, 40, 34, 35, 32, 33, 27, 26, 25, 21, 4, 6, 7, 8, 9, 10, 11, 12, 13, 14, 74, 15, 16, 17, 18, 37, 36, 38, 39, 60, 59, 58, 56, 65, 66, 51]\n",
      "            \n",
      "\n",
      "            wynik : 117786.09281901023 , liczba iteracji wewnątrz algorytmu:249\n",
      "            trasa: [46, 24, 25, 21, 22, 23, 1, 76, 75, 2, 3, 4, 5, 20, 19, 31, 30, 32, 35, 34, 33, 28, 43, 42, 54, 53, 52, 49, 50, 51, 66, 65, 56, 55, 58, 57, 63, 73, 72, 71, 64, 62, 61, 59, 60, 41, 40, 39, 38, 36, 37, 18, 17, 11, 12, 10, 9, 6, 7, 8, 74, 14, 13, 15, 16, 29, 26, 27, 44, 48, 69, 70, 67, 68, 47, 45]\n",
      "            \n",
      "\n",
      "            wynik : 115376.2229638726 , liczba iteracji wewnątrz algorytmu:271\n",
      "            trasa: [3, 4, 25, 24, 46, 45, 44, 48, 47, 69, 68, 70, 67, 50, 49, 55, 56, 57, 63, 64, 73, 72, 71, 65, 66, 51, 52, 53, 54, 42, 43, 28, 27, 26, 21, 22, 23, 1, 76, 75, 2, 8, 7, 6, 9, 10, 11, 12, 13, 14, 74, 15, 16, 17, 18, 37, 36, 35, 34, 58, 62, 61, 59, 60, 41, 40, 39, 38, 33, 32, 29, 30, 31, 19, 20, 5]\n",
      "            \n",
      "\n",
      "            wynik : 114519.56340208426 , liczba iteracji wewnątrz algorytmu:241\n",
      "            trasa: [2, 75, 76, 1, 23, 22, 24, 46, 45, 44, 48, 47, 69, 68, 70, 67, 66, 65, 71, 72, 73, 64, 63, 62, 61, 59, 60, 41, 40, 39, 38, 34, 58, 57, 55, 56, 51, 50, 49, 52, 53, 54, 42, 43, 28, 29, 30, 31, 19, 20, 5, 6, 8, 7, 3, 4, 9, 10, 11, 12, 13, 14, 74, 15, 16, 17, 18, 37, 36, 35, 32, 33, 27, 26, 25, 21]\n",
      "            \n",
      "\n",
      "            wynik : 112250.35395200473 , liczba iteracji wewnątrz algorytmu:255\n",
      "            trasa: [57, 56, 55, 52, 53, 54, 42, 43, 28, 27, 26, 29, 30, 31, 19, 20, 5, 4, 3, 2, 75, 76, 1, 23, 22, 21, 25, 24, 46, 45, 44, 48, 47, 69, 68, 70, 67, 50, 49, 51, 66, 65, 71, 72, 73, 64, 63, 62, 61, 41, 40, 34, 35, 36, 37, 18, 17, 11, 12, 16, 15, 13, 14, 74, 8, 7, 6, 9, 10, 32, 33, 38, 39, 60, 59, 58]\n",
      "            \n",
      "Najlepszy wynik : 112250.35395200473 \n",
      " Najlepsza trasa : [57, 56, 55, 52, 53, 54, 42, 43, 28, 27, 26, 29, 30, 31, 19, 20, 5, 4, 3, 2, 75, 76, 1, 23, 22, 21, 25, 24, 46, 45, 44, 48, 47, 69, 68, 70, 67, 50, 49, 51, 66, 65, 71, 72, 73, 64, 63, 62, 61, 41, 40, 34, 35, 36, 37, 18, 17, 11, 12, 16, 15, 13, 14, 74, 8, 7, 6, 9, 10, 32, 33, 38, 39, 60, 59, 58]\n",
      " Liczba iteracji w najlepszej próbie : 255\n"
     ]
    }
   ],
   "source": [
    "best_result,best_tour,iteration_number = TheBestIHC(1000,tsp76,500,Neighbours2,500000)\n",
    "print(f\"Najlepszy wynik : {best_result} \\n Najlepsza trasa : {best_tour}\\n Liczba iteracji w najlepszej próbie : {iteration_number}\")"
   ]
  },
  {
   "cell_type": "code",
   "execution_count": 42,
   "metadata": {},
   "outputs": [
    {
     "name": "stdout",
     "output_type": "stream",
     "text": [
      "\n",
      "            wynik : 142668.00949413198 , liczba iteracji wewnątrz algorytmu:509\n",
      "            trasa: [12, 18, 77, 76, 78, 117, 84, 81, 126, 83, 101, 102, 82, 75, 70, 71, 110, 85, 86, 87, 88, 109, 96, 119, 63, 69, 68, 74, 73, 67, 8, 72, 19, 22, 20, 14, 41, 36, 35, 54, 48, 118, 53, 56, 50, 115, 13, 105, 15, 108, 17, 21, 4, 23, 24, 6, 106, 114, 7, 2, 51, 124, 52, 5, 121, 57, 45, 103, 44, 40, 34, 39, 42, 43, 37, 16, 1, 120, 10, 100, 58, 64, 113, 65, 99, 92, 89, 125, 104, 59, 60, 62, 61, 91, 90, 116, 9, 11, 3, 66, 55, 47, 49, 46, 94, 112, 111, 107, 127, 93, 95, 123, 28, 29, 32, 98, 97, 122, 33, 25, 80, 79, 31, 27, 26, 38, 30]\n",
      "            \n",
      "\n",
      "            wynik : 138178.32826029544 , liczba iteracji wewnątrz algorytmu:492\n",
      "            trasa: [25, 38, 39, 42, 34, 43, 36, 37, 16, 1, 7, 105, 15, 20, 108, 4, 19, 72, 8, 24, 6, 106, 114, 120, 13, 2, 51, 121, 5, 50, 115, 10, 3, 11, 9, 23, 22, 17, 21, 77, 76, 78, 80, 79, 12, 14, 41, 30, 40, 35, 44, 45, 103, 123, 98, 97, 122, 33, 26, 27, 31, 18, 74, 73, 67, 116, 90, 58, 64, 113, 66, 55, 49, 53, 47, 65, 99, 92, 89, 125, 104, 110, 85, 86, 87, 88, 109, 96, 119, 63, 102, 101, 83, 82, 126, 81, 84, 117, 75, 69, 70, 68, 71, 59, 60, 62, 61, 91, 100, 52, 124, 56, 57, 54, 48, 118, 46, 94, 112, 111, 107, 127, 93, 95, 28, 32, 29]\n",
      "            \n",
      "\n",
      "            wynik : 132856.1162433115 , liczba iteracji wewnątrz algorytmu:528\n",
      "            trasa: [120, 10, 115, 13, 50, 56, 47, 49, 53, 48, 118, 46, 94, 112, 111, 107, 127, 93, 123, 97, 98, 95, 103, 45, 44, 54, 57, 35, 37, 36, 40, 43, 34, 42, 39, 38, 30, 41, 14, 15, 108, 22, 74, 75, 76, 77, 18, 72, 9, 11, 3, 90, 116, 60, 59, 62, 61, 91, 100, 58, 64, 65, 99, 92, 89, 104, 125, 113, 66, 55, 124, 52, 5, 121, 51, 2, 16, 1, 7, 114, 6, 24, 23, 4, 17, 21, 19, 8, 67, 73, 68, 71, 70, 69, 110, 87, 88, 86, 85, 109, 96, 119, 63, 102, 101, 83, 82, 126, 81, 84, 117, 78, 79, 80, 32, 29, 28, 122, 33, 25, 26, 27, 31, 12, 20, 106, 105]\n",
      "            \n",
      "\n",
      "            wynik : 132166.4348614952 , liczba iteracji wewnątrz algorytmu:478\n",
      "            trasa: [44, 54, 57, 35, 30, 31, 27, 26, 33, 122, 28, 97, 98, 123, 95, 40, 41, 14, 12, 20, 21, 72, 8, 9, 11, 3, 61, 62, 60, 59, 104, 125, 89, 92, 99, 65, 113, 66, 55, 124, 52, 5, 121, 51, 2, 105, 15, 108, 4, 22, 17, 79, 80, 32, 29, 25, 38, 39, 42, 34, 43, 36, 37, 16, 1, 7, 120, 10, 100, 64, 58, 91, 90, 116, 67, 73, 74, 68, 75, 69, 70, 71, 110, 85, 86, 87, 88, 109, 96, 119, 63, 102, 101, 83, 82, 126, 81, 84, 117, 78, 76, 77, 18, 19, 23, 24, 6, 106, 114, 13, 115, 50, 56, 47, 53, 49, 118, 48, 46, 94, 112, 111, 107, 127, 93, 103, 45]\n",
      "            \n"
     ]
    }
   ],
   "source": [
    "best_result,best_tour,iteration_number = TheBestIHC(100,tsp127,1000,Neighbours2,580000)\n",
    "print(f\"Najlepszy wynik : {best_result} \\n Najlepsza trasa : {best_tour}\\n Liczba iteracji w najlepszej próbie : {iteration_number}\")"
   ]
  }
 ],
 "metadata": {
  "kernelspec": {
   "display_name": "base",
   "language": "python",
   "name": "python3"
  },
  "language_info": {
   "codemirror_mode": {
    "name": "ipython",
    "version": 3
   },
   "file_extension": ".py",
   "mimetype": "text/x-python",
   "name": "python",
   "nbconvert_exporter": "python",
   "pygments_lexer": "ipython3",
   "version": "3.9.7"
  },
  "orig_nbformat": 4,
  "vscode": {
   "interpreter": {
    "hash": "3e275ebd7e1e609145a384b7d2083e895da725ad89900540b062f2455e1eda3f"
   }
  }
 },
 "nbformat": 4,
 "nbformat_minor": 2
}
